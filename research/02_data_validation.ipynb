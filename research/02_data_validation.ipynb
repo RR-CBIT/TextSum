{
 "cells": [
  {
   "cell_type": "code",
   "execution_count": 7,
   "metadata": {},
   "outputs": [],
   "source": [
    "import os"
   ]
  },
  {
   "cell_type": "code",
   "execution_count": 8,
   "metadata": {},
   "outputs": [
    {
     "data": {
      "text/plain": [
       "'/Users/rahul/Documents/TextSum/research'"
      ]
     },
     "execution_count": 8,
     "metadata": {},
     "output_type": "execute_result"
    }
   ],
   "source": [
    "%pwd"
   ]
  },
  {
   "cell_type": "code",
   "execution_count": 9,
   "metadata": {},
   "outputs": [],
   "source": [
    "os.chdir(\"../\")"
   ]
  },
  {
   "cell_type": "code",
   "execution_count": 10,
   "metadata": {},
   "outputs": [
    {
     "data": {
      "text/plain": [
       "'/Users/rahul/Documents/TextSum'"
      ]
     },
     "execution_count": 10,
     "metadata": {},
     "output_type": "execute_result"
    }
   ],
   "source": [
    "%pwd"
   ]
  },
  {
   "cell_type": "code",
   "execution_count": 1,
   "metadata": {},
   "outputs": [],
   "source": [
    "from dataclasses import dataclass\n",
    "from pathlib import Path\n",
    "\n",
    "@dataclass(frozen=True)\n",
    "class DataValidationConfig:\n",
    "    root_dir: Path\n",
    "    STATUS_FILE: str\n",
    "    ALL_REQUIRED_FILES: list"
   ]
  },
  {
   "cell_type": "code",
   "execution_count": 2,
   "metadata": {},
   "outputs": [],
   "source": [
    "from TextSum.constants import *\n",
    "from TextSum.utils.common import read_yaml, create_directories"
   ]
  },
  {
   "cell_type": "code",
   "execution_count": 3,
   "metadata": {},
   "outputs": [],
   "source": [
    "class ConfigurationManager:\n",
    "    def __init__(\n",
    "            self,\n",
    "            config_filepath =   CONFIG_FILE_PATH,\n",
    "            params_filepath = PARAMS_FILE_PATH):\n",
    "            \n",
    "            self.config= read_yaml(config_filepath)\n",
    "            self.params=read_yaml(params_filepath)\n",
    "            \n",
    "            create_directories([ self.config.artifacts_root])\n",
    "\n",
    "    def get_data_validation_config(self) -> DataValidationConfig:\n",
    "          config= self.config.data_validation\n",
    "\n",
    "          create_directories([config.root_dir])\n",
    "\n",
    "          data_validation_config=DataValidationConfig(\n",
    "                root_dir=config.root_dir,\n",
    "                STATUS_FILE= config.STATUS_FILE,\n",
    "                ALL_REQUIRED_FILES= config.ALL_REQUIRED_FILES\n",
    "          )\n",
    "\n",
    "          return data_validation_config"
   ]
  },
  {
   "cell_type": "code",
   "execution_count": 4,
   "metadata": {},
   "outputs": [],
   "source": [
    "import os\n",
    "from TextSum.logging import logger"
   ]
  },
  {
   "cell_type": "code",
   "execution_count": 14,
   "metadata": {},
   "outputs": [],
   "source": [
    "import os\n",
    "import zipfile\n",
    "\n",
    "class DataValidation:\n",
    "    def __init__(self, config):\n",
    "        self.config = config\n",
    "\n",
    "    def validate_all_files_and_dirs_exist(self) -> bool:\n",
    "        try:\n",
    "            # Define the path to the edindata directory\n",
    "            edindata_dir = os.path.join(\"artifacts\", \"data_ingestion\", \"edin_dataset\")\n",
    "\n",
    "            # Check if the edindata directory exists\n",
    "            if not os.path.isdir(edindata_dir):\n",
    "                raise FileNotFoundError(f\"Directory does not exist: {edindata_dir}\")\n",
    "\n",
    "            # List all files and directories in the edindata directory\n",
    "            all_files_and_dirs = set()\n",
    "            for root, dirs, files in os.walk(edindata_dir):\n",
    "                # Add directories to the list\n",
    "                for dir in dirs:\n",
    "                    all_files_and_dirs.add(os.path.relpath(os.path.join(root, dir), edindata_dir) + '/')\n",
    "                # Add files to the list\n",
    "                for file in files:\n",
    "                    all_files_and_dirs.add(os.path.relpath(os.path.join(root, file), edindata_dir))\n",
    "\n",
    "            # Check if all required files and directories are present\n",
    "            missing_paths = [path for path in self.config.ALL_REQUIRED_FILES if path not in all_files_and_dirs]\n",
    "\n",
    "            validation_status = len(missing_paths) == 0\n",
    "\n",
    "            # Define the path for status.txt\n",
    "            status_file_path = os.path.join(\"artifacts\", \"data_validation\", \"status.txt\")\n",
    "\n",
    "            # Write validation status to the status file\n",
    "            with open(status_file_path, 'w') as f:\n",
    "                if validation_status:\n",
    "                    f.write(\"Validation Status: Success - All required files/directories are present.\\n\")\n",
    "                else:\n",
    "                    f.write(f\"Validation Status: Failed - Missing files/directories: {', '.join(missing_paths)}\\n\")\n",
    "\n",
    "            return validation_status\n",
    "\n",
    "        except Exception as e:\n",
    "            # Define the path for status.txt\n",
    "            status_file_path = os.path.join(\"artifacts\", \"data_validation\", \"status.txt\")\n",
    "            \n",
    "            # Write error status to the status file\n",
    "            with open(status_file_path, 'w') as f:\n",
    "                f.write(f\"Validation Status: Error - {str(e)}\\n\")\n",
    "            \n",
    "            print(f\"An error occurred during validation: {str(e)}\")\n",
    "            return False"
   ]
  },
  {
   "cell_type": "code",
   "execution_count": 18,
   "metadata": {},
   "outputs": [
    {
     "name": "stdout",
     "output_type": "stream",
     "text": [
      "[2024-08-18 15:41:45,071:INFO:common:yaml file: config/config.yaml loaded succesfully]\n",
      "[2024-08-18 15:41:45,073:INFO:common:yaml file: params.yaml loaded succesfully]\n",
      "[2024-08-18 15:41:45,073:INFO:common:Created directory: artifacts]\n",
      "[2024-08-18 15:41:45,074:INFO:common:Created directory: artifacts/data_validation]\n",
      "Validation successful. All required files are present.\n"
     ]
    }
   ],
   "source": [
    "if __name__ == \"__main__\":\n",
    "    try:\n",
    "        # Create a ConfigurationManager instance\n",
    "        config_manager = ConfigurationManager()\n",
    "\n",
    "        # Get the data validation configuration\n",
    "        data_validation_config = config_manager.get_data_validation_config()\n",
    "\n",
    "        # Create a DataValidation instance with the configuration\n",
    "        data_validation = DataValidation(config=data_validation_config)\n",
    "\n",
    "        # Perform validation and write the status to status.txt\n",
    "        validation_status = data_validation.validate_all_files_and_dirs_exist()\n",
    "\n",
    "        # Print the result\n",
    "        if validation_status:\n",
    "            print(\"Validation successful. All required files are present.\")\n",
    "        else:\n",
    "            print(\"Validation failed. Check the status.txt file for details.\")\n",
    "    except Exception as e:\n",
    "        print(f\"An error occurred: {str(e)}\")"
   ]
  }
 ],
 "metadata": {
  "kernelspec": {
   "display_name": "textS",
   "language": "python",
   "name": "python3"
  },
  "language_info": {
   "codemirror_mode": {
    "name": "ipython",
    "version": 3
   },
   "file_extension": ".py",
   "mimetype": "text/x-python",
   "name": "python",
   "nbconvert_exporter": "python",
   "pygments_lexer": "ipython3",
   "version": "3.12.4"
  }
 },
 "nbformat": 4,
 "nbformat_minor": 2
}
